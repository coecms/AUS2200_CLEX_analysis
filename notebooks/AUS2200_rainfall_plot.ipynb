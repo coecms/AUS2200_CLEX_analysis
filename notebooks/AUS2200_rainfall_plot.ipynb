{
 "cells": [
  {
   "cell_type": "markdown",
   "id": "a6d2f311-04e4-4005-8dad-7d7d6556aa19",
   "metadata": {},
   "source": [
    "# AUS2200 rainfall "
   ]
  },
  {
   "cell_type": "markdown",
   "id": "8d68b3f0-f90b-45ee-809e-6adccf4d2b2a",
   "metadata": {},
   "source": [
    "Some intro"
   ]
  },
  {
   "cell_type": "code",
   "execution_count": null,
   "id": "818e5217-88c8-4c08-aa61-209f46e85265",
   "metadata": {},
   "outputs": [],
   "source": [
    "import xarray as xr\n",
    "import matplotlib.pyplot as plt\n",
    "%matplotlib inline\n",
    "#..."
   ]
  },
  {
   "cell_type": "markdown",
   "id": "832d2886-f2a7-497a-beca-207c2611c1ab",
   "metadata": {},
   "source": [
    "## Access data"
   ]
  },
  {
   "cell_type": "code",
   "execution_count": null,
   "id": "3b2b4910-436b-4b24-9406-305ac27bad69",
   "metadata": {},
   "outputs": [],
   "source": [
    "ds = xr.open_mfdataset('/g/data/hh5/tmp/WACI-Hackathon-2023/', parallel=True)"
   ]
  },
  {
   "cell_type": "markdown",
   "id": "74bc1dc2-2017-49fa-bdb3-b6dfd303cdec",
   "metadata": {},
   "source": [
    "## Extract "
   ]
  },
  {
   "cell_type": "markdown",
   "id": "4ee08f9b-0334-42f9-810d-196c1b8a94f1",
   "metadata": {},
   "source": [
    "## Plot"
   ]
  }
 ],
 "metadata": {
  "kernelspec": {
   "display_name": "Python [conda env:analysis3-unstable]",
   "language": "python",
   "name": "conda-env-analysis3-unstable-py"
  },
  "language_info": {
   "codemirror_mode": {
    "name": "ipython",
    "version": 3
   },
   "file_extension": ".py",
   "mimetype": "text/x-python",
   "name": "python",
   "nbconvert_exporter": "python",
   "pygments_lexer": "ipython3",
   "version": "3.9.15"
  }
 },
 "nbformat": 4,
 "nbformat_minor": 5
}
