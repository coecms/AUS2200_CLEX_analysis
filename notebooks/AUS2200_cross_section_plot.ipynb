{
 "cells": [
  {
   "cell_type": "markdown",
   "id": "a6d2f311-04e4-4005-8dad-7d7d6556aa19",
   "metadata": {},
   "source": [
    "# AUS2200 cross section "
   ]
  },
  {
   "cell_type": "markdown",
   "id": "8d68b3f0-f90b-45ee-809e-6adccf4d2b2a",
   "metadata": {},
   "source": [
    "Some intro <br>\n",
    "\n",
    "This is based on https://unidata.github.io/MetPy/latest/examples/cross_section.html"
   ]
  },
  {
   "cell_type": "code",
   "execution_count": null,
   "id": "8be81d4a-5c9b-4be6-af30-25d3c1f8e0af",
   "metadata": {},
   "outputs": [],
   "source": [
    "import xarray as xr\n",
    "import matplotlib.pyplot as plt\n",
    "%matplotlib inline\n",
    "#...\n",
    "import metpy.calc as mpcalc\n",
    "from metpy.interpolate import cross_section"
   ]
  },
  {
   "cell_type": "markdown",
   "id": "832d2886-f2a7-497a-beca-207c2611c1ab",
   "metadata": {},
   "source": [
    "## Access data"
   ]
  },
  {
   "cell_type": "code",
   "execution_count": null,
   "id": "35ece643-8bac-4ba8-bb82-3c1e34c85d6f",
   "metadata": {},
   "outputs": [],
   "source": [
    "ds = xr.open_mfdataset('/g/data/hh5/tmp/WACI-Hackathon-2023/', parallel=True)"
   ]
  },
  {
   "cell_type": "markdown",
   "id": "74bc1dc2-2017-49fa-bdb3-b6dfd303cdec",
   "metadata": {},
   "source": [
    "## Calculate cross section "
   ]
  },
  {
   "cell_type": "code",
   "execution_count": null,
   "id": "c04697ee-5631-4d26-b586-c196668ed053",
   "metadata": {},
   "outputs": [],
   "source": [
    "# Taken from metpy cross section example\n",
    "\n",
    "# use MetPy’s CF parsing to get the data ready for use\n",
    "data = ds.metpy.parse_cf()\n",
    "#Define start and end points:\n",
    "\n",
    "start = (37.0, -105.0)\n",
    "end = (35.5, -65.0)\n",
    "#Get the cross section, and convert lat/lon to supplementary coordinates:\n",
    "\n",
    "cross = cross_section(data, start, end).set_coords(('lat', 'lon'))\n",
    "print(cross)"
   ]
  },
  {
   "cell_type": "markdown",
   "id": "440ef7c2-9018-40e8-b258-2e04591eb92d",
   "metadata": {},
   "source": [
    "we will be plotting potential temperature, relative humidity, and tangential/normal winds. And so, we need to calculate those, and add them to the dataset.\n",
    "NB Not sure how much of this is needed"
   ]
  },
  {
   "cell_type": "code",
   "execution_count": null,
   "id": "0697153a-fe70-43c0-a60b-811fa5cf9d16",
   "metadata": {},
   "outputs": [],
   "source": [
    "cross['Potential_temperature'] = mpcalc.potential_temperature(\n",
    "    cross['isobaric'],\n",
    "    cross['Temperature']\n",
    "    )\n",
    "cross['Relative_humidity'] = mpcalc.relative_humidity_from_specific_humidity(\n",
    "    cross['isobaric'],\n",
    "    cross['Temperature'],\n",
    "    cross['Specific_humidity']\n",
    "    )\n",
    "cross['u_wind'] = cross['u_wind'].metpy.convert_units('knots')\n",
    "cross['v_wind'] = cross['v_wind'].metpy.convert_units('knots')\n",
    "cross['t_wind'], cross['n_wind'] = mpcalc.cross_section_components(\n",
    "    cross['u_wind'],\n",
    "    cross['v_wind']\n",
    "     )\n",
    "\n",
    "print(cross)"
   ]
  },
  {
   "cell_type": "markdown",
   "id": "4ee08f9b-0334-42f9-810d-196c1b8a94f1",
   "metadata": {},
   "source": [
    "## Plot"
   ]
  },
  {
   "cell_type": "markdown",
   "id": "4bf77a04-fcd5-46d9-8c0d-999f9be24517",
   "metadata": {},
   "source": [
    "Again I copied and pasted this as it is in the blog above!"
   ]
  },
  {
   "cell_type": "code",
   "execution_count": null,
   "id": "0b737c22-6c84-4b9b-afea-0a92631dee8a",
   "metadata": {},
   "outputs": [],
   "source": [
    "# Define the figure object and primary axes\n",
    "fig = plt.figure(1, figsize=(16., 9.))\n",
    "ax = plt.axes()\n",
    "\n",
    "# Plot RH using contourf\n",
    "rh_contour = ax.contourf(cross['lon'], cross['isobaric'], cross['Relative_humidity'],\n",
    "                         levels=np.arange(0, 1.05, .05), cmap='YlGnBu')\n",
    "rh_colorbar = fig.colorbar(rh_contour)\n",
    "\n",
    "# Plot potential temperature using contour, with some custom labeling\n",
    "theta_contour = ax.contour(cross['lon'], cross['isobaric'], cross['Potential_temperature'],\n",
    "                           levels=np.arange(250, 450, 5), colors='k', linewidths=2)\n",
    "theta_contour.clabel(theta_contour.levels[1::2], fontsize=8, colors='k', inline=1,\n",
    "                     inline_spacing=8, fmt='%i', rightside_up=True, use_clabeltext=True)\n",
    "\n",
    "# Plot winds using the axes interface directly, with some custom indexing to make the barbs\n",
    "# less crowded\n",
    "wind_slc_vert = list(range(0, 19, 2)) + list(range(19, 29))\n",
    "wind_slc_horz = slice(5, 100, 5)\n",
    "ax.barbs(cross['lon'][wind_slc_horz], cross['isobaric'][wind_slc_vert],\n",
    "         cross['t_wind'][wind_slc_vert, wind_slc_horz],\n",
    "         cross['n_wind'][wind_slc_vert, wind_slc_horz], color='k')\n",
    "\n",
    "# Adjust the y-axis to be logarithmic\n",
    "ax.set_yscale('symlog')\n",
    "ax.set_yticklabels(np.arange(1000, 50, -100))\n",
    "ax.set_ylim(cross['isobaric'].max(), cross['isobaric'].min())\n",
    "ax.set_yticks(np.arange(1000, 50, -100))\n",
    "\n",
    "# Define the CRS and inset axes\n",
    "data_crs = data['Geopotential_height'].metpy.cartopy_crs\n",
    "ax_inset = fig.add_axes([0.125, 0.665, 0.25, 0.25], projection=data_crs)\n",
    "\n",
    "# Plot geopotential height at 500 hPa using xarray's contour wrapper\n",
    "ax_inset.contour(data['x'], data['y'], data['Geopotential_height'].sel(isobaric=500.),\n",
    "                 levels=np.arange(5100, 6000, 60), cmap='inferno')\n",
    "\n",
    "# Plot the path of the cross section\n",
    "endpoints = data_crs.transform_points(ccrs.Geodetic(),\n",
    "                                      *np.vstack([start, end]).transpose()[::-1])\n",
    "ax_inset.scatter(endpoints[:, 0], endpoints[:, 1], c='k', zorder=2)\n",
    "ax_inset.plot(cross['x'], cross['y'], c='k', zorder=2)\n",
    "\n",
    "# Add geographic features\n",
    "ax_inset.coastlines()\n",
    "ax_inset.add_feature(cfeature.STATES.with_scale('50m'), edgecolor='k', alpha=0.2, zorder=0)\n",
    "\n",
    "# Set the titles and axes labels\n",
    "ax_inset.set_title('')\n",
    "ax.set_title(f'NARR Cross-Section \\u2013 {start} to {end} \\u2013 '\n",
    "             f'Valid: {cross[\"time\"].dt.strftime(\"%Y-%m-%d %H:%MZ\").item()}\\n'\n",
    "             'Potential Temperature (K), Tangential/Normal Winds (knots), Relative Humidity '\n",
    "             '(dimensionless)\\nInset: Cross-Section Path and 500 hPa Geopotential Height')\n",
    "ax.set_ylabel('Pressure (hPa)')\n",
    "ax.set_xlabel('Longitude (degrees east)')\n",
    "rh_colorbar.set_label('Relative Humidity (dimensionless)')\n",
    "\n",
    "plt.show()"
   ]
  }
 ],
 "metadata": {
  "kernelspec": {
   "display_name": "Python [conda env:analysis3-unstable]",
   "language": "python",
   "name": "conda-env-analysis3-unstable-py"
  },
  "language_info": {
   "codemirror_mode": {
    "name": "ipython",
    "version": 3
   },
   "file_extension": ".py",
   "mimetype": "text/x-python",
   "name": "python",
   "nbconvert_exporter": "python",
   "pygments_lexer": "ipython3",
   "version": "3.9.15"
  }
 },
 "nbformat": 4,
 "nbformat_minor": 5
}
