{
 "cells": [
  {
   "cell_type": "code",
   "execution_count": null,
   "id": "32cade74-a5e1-473e-a6cf-934515f12289",
   "metadata": {},
   "outputs": [
    {
     "name": "stdout",
     "output_type": "stream",
     "text": [
      "\n",
      "## You are using the Python ARM Radar Toolkit (Py-ART), an open source\n",
      "## library for working with weather radar data. Py-ART is partly\n",
      "## supported by the U.S. Department of Energy as part of the Atmospheric\n",
      "## Radiation Measurement (ARM) Climate Research Facility, an Office of\n",
      "## Science user facility.\n",
      "##\n",
      "## If you use this software to prepare a publication, please cite:\n",
      "##\n",
      "##     JJ Helmus and SM Collis, JORS 2016, doi: 10.5334/jors.119\n",
      "\n"
     ]
    }
   ],
   "source": [
    "import xarray as xr\n",
    "from climtas import nci\n",
    "import matplotlib.pyplot as plt\n",
    "import cartopy.crs as ccrs\n",
    "import pyart\n",
    "import numpy as np\n",
    "import datetime as dt\n",
    "import pandas as pd"
   ]
  },
  {
   "cell_type": "code",
   "execution_count": null,
   "id": "d52b1502-44dd-4fde-90f9-9dfc2bcde666",
   "metadata": {},
   "outputs": [],
   "source": [
    "#Note the run is from Feb 22 to March 7"
   ]
  },
  {
   "cell_type": "code",
   "execution_count": null,
   "id": "8bb2c4d9-b56b-4783-a58f-6bbd1bd279fb",
   "metadata": {},
   "outputs": [],
   "source": [
    "client = nci.GadiClient()\n",
    "client"
   ]
  },
  {
   "cell_type": "code",
   "execution_count": null,
   "id": "ad1adb83-7dfb-4b94-b6fc-241d95c0fa04",
   "metadata": {},
   "outputs": [],
   "source": [
    "#Load agcd\n",
    "agcd = xr.open_dataset(\"/g/data/w40/asp561/agcd/agcd_v1_precip_total_r005_daily_2022.nc\",chunks=\"auto\")\n",
    "agcd[\"time\"] = (pd.to_datetime(agcd.time.values) + dt.timedelta(days=-1)).round(\"1D\")\n",
    "\n",
    "#Load agcd lsm\n",
    "lsm = xr.open_dataset(\"/g/data/w40/asp561/agcd/mask_australia_0.05deg.nc\").rename({\"longitude\":\"lon\",\"latitude\":\"lat\"})\n",
    "lsm[\"lon\"] = lsm.lon.astype(np.float32)\n",
    "lsm[\"lat\"] = lsm.lat.astype(np.float32)\n",
    "\n",
    "#mask agcd based on lsm\n",
    "agcd = xr.where(lsm.landmask,agcd.precip,np.nan)\n",
    "\n",
    "#mask aus2200 based on the agcd lsm\n",
    "aus_prcp = xr.open_mfdataset(\"/g/data/hh5/tmp/WACI-Hackathon-2023/AUS2200/data/surf/10min/accum_ls_prcp_day_sum*\",chunks=\"auto\")\n",
    "aus_prcp_lsm = lsm.interp({\"lon\":aus_prcp.longitude,\"lat\":aus_prcp.latitude},\n",
    "                          method=\"nearest\",method_non_numeric=\"pad\").landmask.fillna(0)\n",
    "aus_prcp = xr.where(aus_prcp_lsm,aus_prcp.accum_ls_prcp,np.nan)"
   ]
  },
  {
   "cell_type": "code",
   "execution_count": null,
   "id": "941f16aa-227b-4f83-a4d4-0e19fdfab581",
   "metadata": {},
   "outputs": [],
   "source": []
  },
  {
   "cell_type": "code",
   "execution_count": null,
   "id": "c24a8638-63fd-4ebb-b7bc-393fc7fce2c5",
   "metadata": {},
   "outputs": [],
   "source": [
    "plt.figure(figsize=[14,6])\n",
    "\n",
    "ax=plt.subplot(1,2,1,projection=ccrs.PlateCarree())\n",
    "aus_prcp.sel({\n",
    "    \"time\":slice(\"2022-03-01\",\"2022-03-7\"),\n",
    "    \"longitude\":slice(147.9,154.6),\n",
    "    \"latitude\":slice(-35.7,-24.9)}).sum(\"time\").plot(\n",
    "    ax=ax,cmap=\"pyart_Cat12\",vmin=0,vmax=500)\n",
    "ax.coastlines()\n",
    "g=ax.gridlines(ls=\":\",draw_labels=True); g.top_labels=False; g.right_labels=False\n",
    "plt.title(\"Aus2200\")\n",
    "\n",
    "ax=plt.subplot(1,2,2,projection=ccrs.PlateCarree())\n",
    "agcd.sel({\n",
    "    \"time\":slice(\"2022-03-01\",\"2022-03-7\"),\n",
    "    \"lon\":slice(147.9,154.6),\n",
    "    \"lat\":slice(-35.7,-24.9)}).sum(\"time\").plot(\n",
    "    ax=ax,cmap=\"pyart_Cat12\",vmin=0,vmax=500)\n",
    "ax.coastlines()\n",
    "\n",
    "g=ax.gridlines(ls=\":\",draw_labels=True); g.top_labels=False; g.right_labels=False\n",
    "plt.title(\"AGCD\")\n",
    "\n",
    "plt.suptitle(\"Week ending March 7\",size=20)"
   ]
  },
  {
   "cell_type": "code",
   "execution_count": null,
   "id": "bfa4ad3e-53c4-4157-a769-c3f4659e28fd",
   "metadata": {},
   "outputs": [],
   "source": [
    "plt.figure(figsize=[14,6])\n",
    "\n",
    "ax=plt.subplot(1,2,1,projection=ccrs.PlateCarree())\n",
    "aus_prcp.sel({\n",
    "    \"time\":slice(\"2022-02-23\",\"2022-03-1\"),\n",
    "    \"longitude\":slice(147.9,154.6),\n",
    "    \"latitude\":slice(-35.7,-24.9)}).sum(\"time\").plot(\n",
    "    ax=ax,cmap=\"pyart_Cat12\",vmin=0,vmax=800)\n",
    "ax.coastlines()\n",
    "g=ax.gridlines(ls=\":\",draw_labels=True); g.top_labels=False; g.right_labels=False\n",
    "plt.title(\"Aus2200\")\n",
    "\n",
    "ax=plt.subplot(1,2,2,projection=ccrs.PlateCarree())\n",
    "agcd.sel({\n",
    "    \"time\":slice(\"2022-02-23\",\"2022-03-1\"),\n",
    "    \"lon\":slice(147.9,154.6),\n",
    "    \"lat\":slice(-35.7,-24.9)}).sum(\"time\").plot(\n",
    "    ax=ax,cmap=\"pyart_Cat12\",vmin=0,vmax=800)\n",
    "ax.coastlines()\n",
    "\n",
    "g=ax.gridlines(ls=\":\",draw_labels=True); g.top_labels=False; g.right_labels=False\n",
    "plt.title(\"AGCD\")\n",
    "\n",
    "plt.suptitle(\"Week ending March 2\",size=20)"
   ]
  },
  {
   "cell_type": "code",
   "execution_count": null,
   "id": "d63ef31d-9cca-4cc5-a825-72a965dabe49",
   "metadata": {},
   "outputs": [],
   "source": [
    "aus_prcp.sel({\n",
    "    \"time\":slice(\"2022-02-23\",\"2022-03-7\"),\n",
    "    \"longitude\":slice(147.9,154.6),\n",
    "    \"latitude\":slice(-35.7,-24.9)}).mean((\"latitude\",\"longitude\")).plot(marker=\"o\",label=\"Aus2200\")\n",
    "\n",
    "agcd.sel({\n",
    "    \"time\":slice(\"2022-02-23\",\"2022-03-7\"),\n",
    "    \"lon\":slice(147.9,154.6),\n",
    "    \"lat\":slice(-35.7,-24.9)}).mean((\"lat\",\"lon\")).plot(marker=\"o\",label=\"AGCD\")\n",
    "\n",
    "plt.legend()\n",
    "plt.title(\"Mean rainfall over [-35.7,-24.9], [147.9,154.6]\")"
   ]
  },
  {
   "cell_type": "code",
   "execution_count": null,
   "id": "9e07048a-67af-44d6-9dac-d1c45f1439ec",
   "metadata": {},
   "outputs": [],
   "source": [
    "aus_prcp.sel({\n",
    "    \"time\":slice(\"2022-02-23\",\"2022-03-7\"),\n",
    "    \"longitude\":slice(147.9,154.6),\n",
    "    \"latitude\":slice(-35.7,-24.9)}).max((\"latitude\",\"longitude\")).plot(marker=\"o\",label=\"Aus2200\")\n",
    "\n",
    "agcd.sel({\n",
    "    \"time\":slice(\"2022-02-23\",\"2022-03-7\"),\n",
    "    \"lon\":slice(147.9,154.6),\n",
    "    \"lat\":slice(-35.7,-24.9)}).max((\"lat\",\"lon\")).plot(marker=\"o\",label=\"AGCD\")\n",
    "\n",
    "plt.legend()\n",
    "plt.title(\"Max rainfall over [-35.7,-24.9], [147.9,154.6]\")"
   ]
  },
  {
   "cell_type": "code",
   "execution_count": null,
   "id": "5e002064-41dc-4ba8-99eb-bf6f08f71924",
   "metadata": {},
   "outputs": [],
   "source": [
    "#load radar data for brisbane\n",
    "\n",
    "radar = xr.open_mfdataset([\n",
    "    \"/g/data/rq0/level_2/66/RAINRATE/66_20220223_rainrate.nc\",\n",
    "    \"/g/data/rq0/level_2/66/RAINRATE/66_20220224_rainrate.nc\",\n",
    "    \"/g/data/rq0/level_2/66/RAINRATE/66_20220225_rainrate.nc\",\n",
    "    \"/g/data/rq0/level_2/66/RAINRATE/66_20220226_rainrate.nc\",\n",
    "    \"/g/data/rq0/level_2/66/RAINRATE/66_20220227_rainrate.nc\",\n",
    "    \"/g/data/rq0/level_2/66/RAINRATE/66_20220228_rainrate.nc\",    \n",
    "    \"/g/data/rq0/level_2/66/RAINRATE/66_20220301_rainrate.nc\",        \n",
    "    \"/g/data/rq0/level_2/66/RAINRATE/66_20220302_rainrate.nc\"])\n",
    "\n",
    "dt = (radar.time.values[-1] - radar.time.values[0])\n",
    "total_hours = (((dt.astype('timedelta64[s]')))).tolist().days * 24 + \\\n",
    "                (((dt.astype('timedelta64[s]')))).tolist().seconds / 60 / 60\n",
    "\n",
    "\n",
    "#TODO: Need to convert this to mm accumulated (is currently a sum of mm/hr at each time step)\n",
    "radar_rain = radar.rainrate.sum(\"time\")\n",
    "plt.pcolormesh(radar.longitude.isel({\"time\":0}).values,radar.latitude.isel({\"time\":0}),radar_rain.values)\n",
    "plt.colorbar()"
   ]
  },
  {
   "cell_type": "code",
   "execution_count": null,
   "id": "f1318793-c10c-429e-b262-a4b10476c194",
   "metadata": {},
   "outputs": [],
   "source": []
  }
 ],
 "metadata": {
  "kernelspec": {
   "display_name": "Python [conda env:analysis3]",
   "language": "python",
   "name": "conda-env-analysis3-py"
  },
  "language_info": {
   "codemirror_mode": {
    "name": "ipython",
    "version": 3
   },
   "file_extension": ".py",
   "mimetype": "text/x-python",
   "name": "python",
   "nbconvert_exporter": "python",
   "pygments_lexer": "ipython3",
   "version": "3.9.15"
  }
 },
 "nbformat": 4,
 "nbformat_minor": 5
}
