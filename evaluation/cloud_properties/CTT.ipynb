{
 "cells": [
  {
   "cell_type": "code",
   "execution_count": 26,
   "id": "a87223b4-cc30-4d34-808b-7328b3a7e6f3",
   "metadata": {
    "tags": []
   },
   "outputs": [],
   "source": [
    "import xarray as xr\n",
    "# import dask as dask\n",
    "\n",
    "import sys\n",
    "sys.path.append('/g/data/hh5/tmp/WACI-Hackathon-2023/share/fm6730/')\n",
    "from cloud_lib import ctt_calc_icesnow"
   ]
  },
  {
   "cell_type": "code",
   "execution_count": 31,
   "id": "e7fab5dc-8bf7-4b91-ae72-6690a3896e78",
   "metadata": {
    "tags": []
   },
   "outputs": [],
   "source": [
    "folder = '/g/data/hh5/tmp/WACI-Hackathon-2023/AUS2200/raw/day2/history/atm/netCDF/'\n",
    "outfolder = '/g/data/hh5/tmp/WACI-Hackathon-2023/share/fm6730/CTT/'\n",
    "\n",
    "event  = \"2nd\""
   ]
  },
  {
   "cell_type": "code",
   "execution_count": 32,
   "id": "873a9333-c7d1-4f38-8732-6377c4916f14",
   "metadata": {
    "tags": []
   },
   "outputs": [],
   "source": [
    "date = ['20220222T2200','20220222T2300','20220223T0000','20220223T0100',\n",
    "       '20220223T0200','20220223T0200','20220223T0300','20220223T0400',\n",
    "       '20220223T0500','20220223T0600','20220223T0700','20220223T0900',\n",
    "       '20220223T0900','20220223T1000','20220223T1100','20220223T1200',\n",
    "       '20220223T1300','20220223T1400','20220223T1500','20220223T1600',\n",
    "       '20220223T1600','20220223T1700','20220223T1800','20220223T1900',\n",
    "       '20220223T2000','20220223T2100','20220223T2200','20220223T2300',\n",
    "       ]\n",
    "# date = ['20220223T2200','20220223T2300','20220224T0000','20220224T0100']"
   ]
  },
  {
   "cell_type": "code",
   "execution_count": null,
   "id": "72ae4660-6440-4951-8f4e-2cb75a1f9d5d",
   "metadata": {
    "tags": []
   },
   "outputs": [
    {
     "name": "stderr",
     "output_type": "stream",
     "text": [
      "/g/data/hh5/public/apps/miniconda3/envs/analysis3-22.10/lib/python3.9/site-packages/xgcm/grid.py:989: FutureWarning: From version 0.8.0 the Axis computation methods will be removed, in favour of using the Grid computation methods instead. i.e. use `Grid.transform` instead of `Axis.transform`\n",
      "  warnings.warn(\n",
      "/g/data/hh5/public/apps/miniconda3/envs/analysis3-22.10/lib/python3.9/site-packages/xgcm/grid.py:989: FutureWarning: From version 0.8.0 the Axis computation methods will be removed, in favour of using the Grid computation methods instead. i.e. use `Grid.transform` instead of `Axis.transform`\n",
      "  warnings.warn(\n",
      "/g/data/hh5/public/apps/miniconda3/envs/analysis3-22.10/lib/python3.9/site-packages/xgcm/grid.py:989: FutureWarning: From version 0.8.0 the Axis computation methods will be removed, in favour of using the Grid computation methods instead. i.e. use `Grid.transform` instead of `Axis.transform`\n",
      "  warnings.warn(\n",
      "/g/data/hh5/public/apps/miniconda3/envs/analysis3-22.10/lib/python3.9/site-packages/xgcm/grid.py:989: FutureWarning: From version 0.8.0 the Axis computation methods will be removed, in favour of using the Grid computation methods instead. i.e. use `Grid.transform` instead of `Axis.transform`\n",
      "  warnings.warn(\n",
      "/g/data/hh5/public/apps/miniconda3/envs/analysis3-22.10/lib/python3.9/site-packages/xgcm/grid.py:989: FutureWarning: From version 0.8.0 the Axis computation methods will be removed, in favour of using the Grid computation methods instead. i.e. use `Grid.transform` instead of `Axis.transform`\n",
      "  warnings.warn(\n",
      "/g/data/hh5/public/apps/miniconda3/envs/analysis3-22.10/lib/python3.9/site-packages/xgcm/grid.py:989: FutureWarning: From version 0.8.0 the Axis computation methods will be removed, in favour of using the Grid computation methods instead. i.e. use `Grid.transform` instead of `Axis.transform`\n",
      "  warnings.warn(\n",
      "/g/data/hh5/public/apps/miniconda3/envs/analysis3-22.10/lib/python3.9/site-packages/xgcm/grid.py:989: FutureWarning: From version 0.8.0 the Axis computation methods will be removed, in favour of using the Grid computation methods instead. i.e. use `Grid.transform` instead of `Axis.transform`\n",
      "  warnings.warn(\n",
      "/g/data/hh5/public/apps/miniconda3/envs/analysis3-22.10/lib/python3.9/site-packages/xgcm/grid.py:989: FutureWarning: From version 0.8.0 the Axis computation methods will be removed, in favour of using the Grid computation methods instead. i.e. use `Grid.transform` instead of `Axis.transform`\n",
      "  warnings.warn(\n",
      "/g/data/hh5/public/apps/miniconda3/envs/analysis3-22.10/lib/python3.9/site-packages/xgcm/grid.py:989: FutureWarning: From version 0.8.0 the Axis computation methods will be removed, in favour of using the Grid computation methods instead. i.e. use `Grid.transform` instead of `Axis.transform`\n",
      "  warnings.warn(\n",
      "/g/data/hh5/public/apps/miniconda3/envs/analysis3-22.10/lib/python3.9/site-packages/xgcm/grid.py:989: FutureWarning: From version 0.8.0 the Axis computation methods will be removed, in favour of using the Grid computation methods instead. i.e. use `Grid.transform` instead of `Axis.transform`\n",
      "  warnings.warn(\n",
      "/g/data/hh5/public/apps/miniconda3/envs/analysis3-22.10/lib/python3.9/site-packages/xgcm/grid.py:989: FutureWarning: From version 0.8.0 the Axis computation methods will be removed, in favour of using the Grid computation methods instead. i.e. use `Grid.transform` instead of `Axis.transform`\n",
      "  warnings.warn(\n",
      "/g/data/hh5/public/apps/miniconda3/envs/analysis3-22.10/lib/python3.9/site-packages/xgcm/grid.py:989: FutureWarning: From version 0.8.0 the Axis computation methods will be removed, in favour of using the Grid computation methods instead. i.e. use `Grid.transform` instead of `Axis.transform`\n",
      "  warnings.warn(\n",
      "/g/data/hh5/public/apps/miniconda3/envs/analysis3-22.10/lib/python3.9/site-packages/xgcm/grid.py:989: FutureWarning: From version 0.8.0 the Axis computation methods will be removed, in favour of using the Grid computation methods instead. i.e. use `Grid.transform` instead of `Axis.transform`\n",
      "  warnings.warn(\n",
      "/g/data/hh5/public/apps/miniconda3/envs/analysis3-22.10/lib/python3.9/site-packages/xgcm/grid.py:989: FutureWarning: From version 0.8.0 the Axis computation methods will be removed, in favour of using the Grid computation methods instead. i.e. use `Grid.transform` instead of `Axis.transform`\n",
      "  warnings.warn(\n",
      "/g/data/hh5/public/apps/miniconda3/envs/analysis3-22.10/lib/python3.9/site-packages/xgcm/grid.py:989: FutureWarning: From version 0.8.0 the Axis computation methods will be removed, in favour of using the Grid computation methods instead. i.e. use `Grid.transform` instead of `Axis.transform`\n",
      "  warnings.warn(\n",
      "/g/data/hh5/public/apps/miniconda3/envs/analysis3-22.10/lib/python3.9/site-packages/xgcm/grid.py:989: FutureWarning: From version 0.8.0 the Axis computation methods will be removed, in favour of using the Grid computation methods instead. i.e. use `Grid.transform` instead of `Axis.transform`\n",
      "  warnings.warn(\n",
      "/g/data/hh5/public/apps/miniconda3/envs/analysis3-22.10/lib/python3.9/site-packages/xgcm/grid.py:989: FutureWarning: From version 0.8.0 the Axis computation methods will be removed, in favour of using the Grid computation methods instead. i.e. use `Grid.transform` instead of `Axis.transform`\n",
      "  warnings.warn(\n",
      "/g/data/hh5/public/apps/miniconda3/envs/analysis3-22.10/lib/python3.9/site-packages/xgcm/grid.py:989: FutureWarning: From version 0.8.0 the Axis computation methods will be removed, in favour of using the Grid computation methods instead. i.e. use `Grid.transform` instead of `Axis.transform`\n",
      "  warnings.warn(\n",
      "/g/data/hh5/public/apps/miniconda3/envs/analysis3-22.10/lib/python3.9/site-packages/xgcm/grid.py:989: FutureWarning: From version 0.8.0 the Axis computation methods will be removed, in favour of using the Grid computation methods instead. i.e. use `Grid.transform` instead of `Axis.transform`\n",
      "  warnings.warn(\n",
      "/g/data/hh5/public/apps/miniconda3/envs/analysis3-22.10/lib/python3.9/site-packages/xgcm/grid.py:989: FutureWarning: From version 0.8.0 the Axis computation methods will be removed, in favour of using the Grid computation methods instead. i.e. use `Grid.transform` instead of `Axis.transform`\n",
      "  warnings.warn(\n",
      "/g/data/hh5/public/apps/miniconda3/envs/analysis3-22.10/lib/python3.9/site-packages/xgcm/grid.py:989: FutureWarning: From version 0.8.0 the Axis computation methods will be removed, in favour of using the Grid computation methods instead. i.e. use `Grid.transform` instead of `Axis.transform`\n",
      "  warnings.warn(\n",
      "/g/data/hh5/public/apps/miniconda3/envs/analysis3-22.10/lib/python3.9/site-packages/xgcm/grid.py:989: FutureWarning: From version 0.8.0 the Axis computation methods will be removed, in favour of using the Grid computation methods instead. i.e. use `Grid.transform` instead of `Axis.transform`\n",
      "  warnings.warn(\n",
      "/g/data/hh5/public/apps/miniconda3/envs/analysis3-22.10/lib/python3.9/site-packages/xgcm/grid.py:989: FutureWarning: From version 0.8.0 the Axis computation methods will be removed, in favour of using the Grid computation methods instead. i.e. use `Grid.transform` instead of `Axis.transform`\n",
      "  warnings.warn(\n"
     ]
    }
   ],
   "source": [
    "for d in date:\n",
    "\n",
    "    ds_cld     = xr.open_dataset(folder+'umnsa_cldrad_'+d+'_1h.nc')\n",
    "    ds_t       = xr.open_dataset(folder+'umnsa_mdl_'+d+'_1h.nc')\n",
    "\n",
    "    qis = ds_cld[\"fld_s00i012\"] #QICE & QSNOW\n",
    "    qg  = ds_cld[\"fld_s00i273\"]  #QGRAUPEL\n",
    "    qc  = ds_cld[\"fld_s00i254\"]  #QCLOUD\n",
    "    qr  = ds_cld[\"fld_s00i272\"]  #QRAIN\n",
    "\n",
    "    t   = ds_t[\"fld_s16i004\"].rename({'lon_0':'lon'})\n",
    "\n",
    "    ctt = ctt_calc_icesnow(qis,qg,qc,qr,t)\n",
    "\n",
    "    ctt.to_netcdf(outfolder+\"ctt_\"+d+\"_\"+event+\".nc\")\n"
   ]
  },
  {
   "cell_type": "code",
   "execution_count": 19,
   "id": "d753e6a3-c29f-4841-865a-0f6e47e88d79",
   "metadata": {
    "tags": []
   },
   "outputs": [
    {
     "name": "stdout",
     "output_type": "stream",
     "text": [
      "\u001b[32mcdo    mergetime: \u001b[0mProcessed 22048000 values from 4 variables over 4 timesteps [1.45s 458MB]\n"
     ]
    }
   ],
   "source": [
    "!cdo mergetime '/g/data/hh5/tmp/WACI-Hackathon-2023/share/fm6730/CTT/*_'{event}'.nc' '/g/data/hh5/tmp/WACI-Hackathon-2023/share/fm6730/CTT/ctt_'{date[0]}'-'{date[-1]}'_'{event}'.nc'"
   ]
  },
  {
   "cell_type": "code",
   "execution_count": null,
   "id": "1098bca4-ff68-4986-8e49-8b128ad3138a",
   "metadata": {},
   "outputs": [],
   "source": []
  }
 ],
 "metadata": {
  "kernelspec": {
   "display_name": "Python [conda env:analysis3]",
   "language": "python",
   "name": "conda-env-analysis3-py"
  },
  "language_info": {
   "codemirror_mode": {
    "name": "ipython",
    "version": 3
   },
   "file_extension": ".py",
   "mimetype": "text/x-python",
   "name": "python",
   "nbconvert_exporter": "python",
   "pygments_lexer": "ipython3",
   "version": "3.9.15"
  }
 },
 "nbformat": 4,
 "nbformat_minor": 5
}
